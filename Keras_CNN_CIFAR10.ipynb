{
  "nbformat": 4,
  "nbformat_minor": 0,
  "metadata": {
    "accelerator": "GPU",
    "colab": {
      "name": "Keras_CNN_CIFAR10.ipynb",
      "provenance": [],
      "include_colab_link": true
    },
    "kernelspec": {
      "display_name": "Python 3",
      "language": "python",
      "name": "python3"
    },
    "language_info": {
      "codemirror_mode": {
        "name": "ipython",
        "version": 3
      },
      "file_extension": ".py",
      "mimetype": "text/x-python",
      "name": "python",
      "nbconvert_exporter": "python",
      "pygments_lexer": "ipython3",
      "version": "3.6.6"
    }
  },
  "cells": [
    {
      "cell_type": "markdown",
      "metadata": {
        "id": "view-in-github",
        "colab_type": "text"
      },
      "source": [
        "<a href=\"https://colab.research.google.com/github/ajitkumarkp/ML/blob/master/Keras_CNN_CIFAR10.ipynb\" target=\"_parent\"><img src=\"https://colab.research.google.com/assets/colab-badge.svg\" alt=\"Open In Colab\"/></a>"
      ]
    },
    {
      "cell_type": "markdown",
      "metadata": {
        "id": "-Y2TM5BFAnBV",
        "colab_type": "text"
      },
      "source": [
        "## <font style=\"color:rgb(50,120,229)\">Import Libraries </font>"
      ]
    },
    {
      "cell_type": "code",
      "metadata": {
        "id": "YCD-5STuiduq",
        "trusted": true,
        "colab_type": "code",
        "colab": {}
      },
      "source": [
        "import numpy as np\n",
        "import matplotlib.pyplot as plt\n",
        "%matplotlib inline\n",
        "from tensorflow.keras.models import Sequential\n",
        "from tensorflow.keras.layers import Dense, Conv2D, MaxPooling2D, Dropout, Flatten"
      ],
      "execution_count": 0,
      "outputs": []
    },
    {
      "cell_type": "markdown",
      "metadata": {
        "id": "u1bQVWr_iduz",
        "colab_type": "text"
      },
      "source": [
        "## <font style=\"color:rgb(50,120,229)\">Import the Data</font>\n",
        "We will use CFIAR10- https://www.cs.toronto.edu/~kriz/cifar.html dataset and load_data function to load it into memory"
      ]
    },
    {
      "cell_type": "code",
      "metadata": {
        "id": "Dm8L21GDidu0",
        "outputId": "c134437a-d0c1-4af6-f4d2-c529b5b07ff8",
        "trusted": true,
        "colab_type": "code",
        "colab": {
          "base_uri": "https://localhost:8080/",
          "height": 51
        }
      },
      "source": [
        "from tensorflow.keras.datasets import cifar10\n",
        "(train_images, train_labels), (test_images, test_labels) = cifar10.load_data()"
      ],
      "execution_count": 2,
      "outputs": [
        {
          "output_type": "stream",
          "text": [
            "Downloading data from https://www.cs.toronto.edu/~kriz/cifar-10-python.tar.gz\n",
            "170500096/170498071 [==============================] - 6s 0us/step\n"
          ],
          "name": "stdout"
        }
      ]
    },
    {
      "cell_type": "code",
      "metadata": {
        "trusted": true,
        "id": "12c1Hlf3AnBh",
        "colab_type": "code",
        "colab": {}
      },
      "source": [
        "labelMap = [\"airplane\",\"automobile\",\"bird\",\"cat\",\"deer\",\"dog\",\"frog\",\"horse\",\"ship\",\"truck\"]"
      ],
      "execution_count": 0,
      "outputs": []
    },
    {
      "cell_type": "markdown",
      "metadata": {
        "id": "Da07asulidu4",
        "colab_type": "text"
      },
      "source": [
        "## <font style=\"color:rgb(50,120,229)\">Explore the Data</font>\n",
        "Check out the number of images in training and test data and also the number of classes and some sample images"
      ]
    },
    {
      "cell_type": "code",
      "metadata": {
        "id": "h-gkF7AHidu5",
        "trusted": true,
        "colab_type": "code",
        "colab": {}
      },
      "source": [
        "from tensorflow.keras.utils import to_categorical"
      ],
      "execution_count": 0,
      "outputs": []
    },
    {
      "cell_type": "code",
      "metadata": {
        "id": "58-5ZsIxidu9",
        "outputId": "ba73631c-979f-4c61-87f2-9a5574d5ca89",
        "trusted": true,
        "colab_type": "code",
        "colab": {
          "base_uri": "https://localhost:8080/",
          "height": 250
        }
      },
      "source": [
        "print('Training data shape : ', train_images.shape, train_labels.shape)\n",
        "\n",
        "print('Testing data shape : ', test_images.shape, test_labels.shape)\n",
        "\n",
        "# Find the unique numbers from the train labels\n",
        "classes = np.unique(train_labels)\n",
        "nClasses = len(classes)\n",
        "print('Total number of outputs : ', nClasses)\n",
        "print('Output classes : ', classes)\n",
        "\n",
        "plt.figure(figsize=[4,4])\n",
        "\n",
        "# Display the first image in training data\n",
        "plt.subplot(121)\n",
        "plt.imshow(train_images[0,:,:])\n",
        "plt.title(\"Ground Truth : {}\".format(train_labels[0]))\n",
        "\n",
        "# Display the first image in testing data\n",
        "plt.subplot(122)\n",
        "plt.imshow(test_images[0,:,:])\n",
        "plt.title(\"Ground Truth : {}\".format(test_labels[0]))\n"
      ],
      "execution_count": 5,
      "outputs": [
        {
          "output_type": "stream",
          "text": [
            "Training data shape :  (50000, 32, 32, 3) (50000, 1)\n",
            "Testing data shape :  (10000, 32, 32, 3) (10000, 1)\n",
            "Total number of outputs :  10\n",
            "Output classes :  [0 1 2 3 4 5 6 7 8 9]\n"
          ],
          "name": "stdout"
        },
        {
          "output_type": "execute_result",
          "data": {
            "text/plain": [
              "Text(0.5, 1.0, 'Ground Truth : [3]')"
            ]
          },
          "metadata": {
            "tags": []
          },
          "execution_count": 5
        },
        {
          "output_type": "display_data",
          "data": {
            "image/png": "[encoded data removed]",
            "text/plain": [
              "<Figure size 288x288 with 2 Axes>"
            ]
          },
          "metadata": {
            "tags": []
          }
        }
      ]
    },
    {
      "cell_type": "markdown",
      "metadata": {
        "id": "4O1ymTkOidvA",
        "colab_type": "text"
      },
      "source": [
        "## <font style=\"color:rgb(50,120,229)\">Preprocess the Data</font>\n",
        "Perform normalization of data (i.e. convert the images to float and normalize the intensity values to lie between 0-1 and convert the labels to categorical variables to be used in Keras."
      ]
    },
    {
      "cell_type": "code",
      "metadata": {
        "id": "P--Rs6w-idvB",
        "trusted": true,
        "colab_type": "code",
        "colab": {
          "base_uri": "https://localhost:8080/",
          "height": 51
        },
        "outputId": "c4c54d0b-ea58-4d01-ff9a-394b88dee649"
      },
      "source": [
        "# Find the shape of input images and create the variable input_shape\n",
        "nDims = 3\n",
        "nRows,nCols = train_images.shape[1:3]\n",
        "# print(nRows,nCols)\n",
        "train_data = train_images.reshape(train_images.shape[0], nRows, nCols,nDims)\n",
        "test_data = test_images.reshape(test_images.shape[0], nRows, nCols,nDims)\n",
        "input_shape = (nRows, nCols,nDims)\n",
        "\n",
        "print('Training data shape : ', train_data.shape)\n",
        "print('Testing data shape : ', test_data.shape)\n",
        "\n",
        "# Change to float datatype\n",
        "train_data = train_data.astype('float32')\n",
        "test_data = test_data.astype('float32')\n",
        "\n",
        "# Scale the data to lie between 0 to 1\n",
        "train_data /= 255\n",
        "test_data /= 255\n",
        "\n",
        "# Change the labels from integer to categorical data\n",
        "train_labels_one_hot = to_categorical(train_labels)\n",
        "test_labels_one_hot = to_categorical(test_labels)"
      ],
      "execution_count": 6,
      "outputs": [
        {
          "output_type": "stream",
          "text": [
            "Training data shape :  (50000, 32, 32, 3)\n",
            "Testing data shape :  (10000, 32, 32, 3)\n"
          ],
          "name": "stdout"
        }
      ]
    },
    {
      "cell_type": "code",
      "metadata": {
        "id": "9zJL58gUidvF",
        "outputId": "a827a7ae-fde9-42fd-8c9f-6ce57ab6f66a",
        "trusted": true,
        "colab_type": "code",
        "colab": {
          "base_uri": "https://localhost:8080/",
          "height": 51
        }
      },
      "source": [
        "# Display the change for category label using one-hot encoding\n",
        "print('Original label 0 : ', train_labels[0])\n",
        "print('After conversion to categorical ( one-hot ) : ', train_labels_one_hot[0])"
      ],
      "execution_count": 7,
      "outputs": [
        {
          "output_type": "stream",
          "text": [
            "Original label 0 :  [6]\n",
            "After conversion to categorical ( one-hot ) :  [0. 0. 0. 0. 0. 0. 1. 0. 0. 0.]\n"
          ],
          "name": "stdout"
        }
      ]
    },
    {
      "cell_type": "markdown",
      "metadata": {
        "id": "8aMXugtIidvI",
        "colab_type": "text"
      },
      "source": [
        "## <font style=\"color:rgb(50,120,229)\">Define the Model</font>\n",
        "For implementing a CNN, we will stack up Convolutional Layers, followed by Max Pooling layers. We will also include Dropout to avoid overfitting. \n",
        "\n",
        "Finally, we will add a fully connected ( Dense ) layer followed by a softmax layer. Given below is the model structure.\n",
        "\n",
        "We use 6 convolutional layers and 1 fully-connected layer. \n",
        "- The first 2 convolutional layers have 32 filters / kernels with a window size of 3×3. \n",
        "- The remaining conv layers have 64 filters. \n",
        "- We also add a max pooling layer with window size 2×2 after each pair of conv layer. \n",
        "- We add a dropout layer with a dropout ratio of 0.25 after every pooling layer. \n",
        "- In the final line, we add the dense layer which performs the classification among 10 classes using a softmax layer."
      ]
    },
    {
      "cell_type": "code",
      "metadata": {
        "id": "vqNkKKGNidvJ",
        "trusted": true,
        "colab_type": "code",
        "colab": {}
      },
      "source": [
        "def createModel():\n",
        "    model = Sequential()\n",
        "    # The first two layers with 32 filters of window size 3x3\n",
        "    model.add(Conv2D(32, (3, 3), padding='same', activation='relu', input_shape=input_shape))\n",
        "    model.add(Conv2D(32, (3, 3), activation='relu'))\n",
        "    model.add(MaxPooling2D(pool_size=(2, 2)))\n",
        "    model.add(Dropout(0.25))\n",
        "\n",
        "    model.add(Conv2D(64, (3, 3), padding='same', activation='relu'))\n",
        "    model.add(Conv2D(64, (3, 3), activation='relu'))\n",
        "    model.add(MaxPooling2D(pool_size=(2, 2)))\n",
        "    model.add(Dropout(0.25))\n",
        "\n",
        "    model.add(Conv2D(64, (3, 3), padding='same', activation='relu'))\n",
        "    model.add(Conv2D(64, (3, 3), activation='relu'))\n",
        "    model.add(MaxPooling2D(pool_size=(2, 2)))\n",
        "    model.add(Dropout(0.25))\n",
        "\n",
        "    model.add(Flatten())\n",
        "    model.add(Dense(512, activation='relu'))\n",
        "    model.add(Dropout(0.5))\n",
        "    model.add(Dense(nClasses, activation='softmax'))\n",
        "    \n",
        "    return model"
      ],
      "execution_count": 0,
      "outputs": []
    },
    {
      "cell_type": "markdown",
      "metadata": {
        "id": "txxZ6d7bidvM",
        "colab_type": "text"
      },
      "source": [
        "## <font style=\"color:rgb(50,120,229)\">Train the model</font>\n",
        "We will employ the same Keras workflow that we learnt in the previous section. We create the model and use the `compile` and `fit` methods to train the network.\n",
        "\n",
        "If we check the model summary we can see the shapes of each layer.\n",
        "\n",
        "It shows that since we have used padding in the first layer, the output shape is same as the input ( 32×32 ). But the second conv layer shrinks by 2 pixels in both dimensions. Also, the output size after pooling layer decreases by half since we have used a stride of 2 and a window size of 2×2. The final droupout layer has an output of 2x2x64. This has to be converted to a single array. This is done by the flatten layer which converts the 3D array into a 1D array of size 2x2x64 = 256. The final layer has 10 nodes since there are 10 classes.\n",
        "\n",
        "Since it is a 10 class classification problem, we will use a categorical cross entropy loss and use RMSProp optimizer to train the network. We will run it for 20 epochs."
      ]
    },
    {
      "cell_type": "code",
      "metadata": {
        "id": "s0fYm6knidvQ",
        "outputId": "a708a8ec-498c-4db1-ff47-9958b748071c",
        "trusted": true,
        "colab_type": "code",
        "colab": {
          "base_uri": "https://localhost:8080/",
          "height": 697
        }
      },
      "source": [
        "model1 = createModel()\n",
        "batch_size = 256\n",
        "epochs = 20\n",
        "model1.compile(optimizer='rmsprop', loss='categorical_crossentropy', metrics=['accuracy'])\n",
        "\n",
        "model1.summary()"
      ],
      "execution_count": 9,
      "outputs": [
        {
          "output_type": "stream",
          "text": [
            "Model: \"sequential\"\n",
            "_________________________________________________________________\n",
            "Layer (type)                 Output Shape              Param #   \n",
            "=================================================================\n",
            "conv2d (Conv2D)              (None, 32, 32, 32)        896       \n",
            "_________________________________________________________________\n",
            "conv2d_1 (Conv2D)            (None, 30, 30, 32)        9248      \n",
            "_________________________________________________________________\n",
            "max_pooling2d (MaxPooling2D) (None, 15, 15, 32)        0         \n",
            "_________________________________________________________________\n",
            "dropout (Dropout)            (None, 15, 15, 32)        0         \n",
            "_________________________________________________________________\n",
            "conv2d_2 (Conv2D)            (None, 15, 15, 64)        18496     \n",
            "_________________________________________________________________\n",
            "conv2d_3 (Conv2D)            (None, 13, 13, 64)        36928     \n",
            "_________________________________________________________________\n",
            "max_pooling2d_1 (MaxPooling2 (None, 6, 6, 64)          0         \n",
            "_________________________________________________________________\n",
            "dropout_1 (Dropout)          (None, 6, 6, 64)          0         \n",
            "_________________________________________________________________\n",
            "conv2d_4 (Conv2D)            (None, 6, 6, 64)          36928     \n",
            "_________________________________________________________________\n",
            "conv2d_5 (Conv2D)            (None, 4, 4, 64)          36928     \n",
            "_________________________________________________________________\n",
            "max_pooling2d_2 (MaxPooling2 (None, 2, 2, 64)          0         \n",
            "_________________________________________________________________\n",
            "dropout_2 (Dropout)          (None, 2, 2, 64)          0         \n",
            "_________________________________________________________________\n",
            "flatten (Flatten)            (None, 256)               0         \n",
            "_________________________________________________________________\n",
            "dense (Dense)                (None, 512)               131584    \n",
            "_________________________________________________________________\n",
            "dropout_3 (Dropout)          (None, 512)               0         \n",
            "_________________________________________________________________\n",
            "dense_1 (Dense)              (None, 10)                5130      \n",
            "=================================================================\n",
            "Total params: 276,138\n",
            "Trainable params: 276,138\n",
            "Non-trainable params: 0\n",
            "_________________________________________________________________\n"
          ],
          "name": "stdout"
        }
      ]
    },
    {
      "cell_type": "code",
      "metadata": {
        "outputId": "a3feaffd-4610-4f9d-d001-7f72587dfed0",
        "scrolled": true,
        "trusted": true,
        "id": "aglurzAwAnB_",
        "colab_type": "code",
        "colab": {
          "base_uri": "https://localhost:8080/",
          "height": 697
        }
      },
      "source": [
        "history = model1.fit(train_data, train_labels_one_hot, batch_size=batch_size, epochs=epochs, verbose=1, \n",
        "                   validation_data=(test_data, test_labels_one_hot))\n",
        "# test_loss,test_accuracy = model1.evaluate(test_data, test_labels_one_hot)"
      ],
      "execution_count": 10,
      "outputs": [
        {
          "output_type": "stream",
          "text": [
            "Epoch 1/20\n",
            "196/196 [==============================] - 3s 18ms/step - loss: 2.0745 - accuracy: 0.2303 - val_loss: 1.7158 - val_accuracy: 0.3691\n",
            "Epoch 2/20\n",
            "196/196 [==============================] - 3s 16ms/step - loss: 1.7071 - accuracy: 0.3818 - val_loss: 1.4746 - val_accuracy: 0.4650\n",
            "Epoch 3/20\n",
            "196/196 [==============================] - 3s 16ms/step - loss: 1.5115 - accuracy: 0.4564 - val_loss: 1.4463 - val_accuracy: 0.4837\n",
            "Epoch 4/20\n",
            "196/196 [==============================] - 3s 16ms/step - loss: 1.3854 - accuracy: 0.5058 - val_loss: 1.3075 - val_accuracy: 0.5362\n",
            "Epoch 5/20\n",
            "196/196 [==============================] - 3s 16ms/step - loss: 1.2753 - accuracy: 0.5465 - val_loss: 1.2500 - val_accuracy: 0.5445\n",
            "Epoch 6/20\n",
            "196/196 [==============================] - 3s 16ms/step - loss: 1.1945 - accuracy: 0.5764 - val_loss: 1.1621 - val_accuracy: 0.5939\n",
            "Epoch 7/20\n",
            "196/196 [==============================] - 3s 16ms/step - loss: 1.1140 - accuracy: 0.6087 - val_loss: 1.1334 - val_accuracy: 0.6118\n",
            "Epoch 8/20\n",
            "196/196 [==============================] - 3s 16ms/step - loss: 1.0586 - accuracy: 0.6286 - val_loss: 0.9515 - val_accuracy: 0.6658\n",
            "Epoch 9/20\n",
            "196/196 [==============================] - 3s 16ms/step - loss: 1.0126 - accuracy: 0.6458 - val_loss: 0.9169 - val_accuracy: 0.6818\n",
            "Epoch 10/20\n",
            "196/196 [==============================] - 3s 16ms/step - loss: 0.9548 - accuracy: 0.6651 - val_loss: 0.9778 - val_accuracy: 0.6595\n",
            "Epoch 11/20\n",
            "196/196 [==============================] - 3s 16ms/step - loss: 0.9089 - accuracy: 0.6819 - val_loss: 1.0366 - val_accuracy: 0.6518\n",
            "Epoch 12/20\n",
            "196/196 [==============================] - 3s 16ms/step - loss: 0.8697 - accuracy: 0.6961 - val_loss: 0.9171 - val_accuracy: 0.6854\n",
            "Epoch 13/20\n",
            "196/196 [==============================] - 3s 16ms/step - loss: 0.8386 - accuracy: 0.7081 - val_loss: 0.9118 - val_accuracy: 0.6886\n",
            "Epoch 14/20\n",
            "196/196 [==============================] - 3s 16ms/step - loss: 0.8034 - accuracy: 0.7188 - val_loss: 0.7962 - val_accuracy: 0.7344\n",
            "Epoch 15/20\n",
            "196/196 [==============================] - 3s 16ms/step - loss: 0.7764 - accuracy: 0.7299 - val_loss: 0.8371 - val_accuracy: 0.7173\n",
            "Epoch 16/20\n",
            "196/196 [==============================] - 3s 16ms/step - loss: 0.7487 - accuracy: 0.7391 - val_loss: 0.7135 - val_accuracy: 0.7548\n",
            "Epoch 17/20\n",
            "196/196 [==============================] - 3s 16ms/step - loss: 0.7251 - accuracy: 0.7493 - val_loss: 0.7585 - val_accuracy: 0.7346\n",
            "Epoch 18/20\n",
            "196/196 [==============================] - 3s 16ms/step - loss: 0.7092 - accuracy: 0.7553 - val_loss: 0.7455 - val_accuracy: 0.7500\n",
            "Epoch 19/20\n",
            "196/196 [==============================] - 3s 16ms/step - loss: 0.6853 - accuracy: 0.7605 - val_loss: 0.7283 - val_accuracy: 0.7561\n",
            "Epoch 20/20\n",
            "196/196 [==============================] - 3s 16ms/step - loss: 0.6658 - accuracy: 0.7687 - val_loss: 0.6906 - val_accuracy: 0.7709\n"
          ],
          "name": "stdout"
        }
      ]
    },
    {
      "cell_type": "markdown",
      "metadata": {
        "id": "tznmQGQ5idvS",
        "colab_type": "text"
      },
      "source": [
        "## <font style=\"color:rgb(50,120,229)\">Check the loss and accuracy curves</font>\n",
        "We use the history method while training to store the accuracy and loss values over the iterations. We plot the values to see how the network accuracy and loss changed while training."
      ]
    },
    {
      "cell_type": "code",
      "metadata": {
        "trusted": true,
        "id": "L1nQQeHAAnCF",
        "colab_type": "code",
        "colab": {
          "base_uri": "https://localhost:8080/",
          "height": 71
        },
        "outputId": "7a5812b5-b611-4b05-c406-25807ba478da"
      },
      "source": [
        "print (len(history.history[\"loss\"]))\n",
        "print (history.history)\n"
      ],
      "execution_count": 11,
      "outputs": [
        {
          "output_type": "stream",
          "text": [
            "20\n",
            "{'loss': [2.0744986534118652, 1.7071304321289062, 1.511489987373352, 1.3853778839111328, 1.2753440141677856, 1.194503903388977, 1.113972544670105, 1.0585886240005493, 1.0126118659973145, 0.9548241496086121, 0.9089421033859253, 0.8696683049201965, 0.8385996222496033, 0.8033668994903564, 0.7764439582824707, 0.748711884021759, 0.7250661849975586, 0.7092474102973938, 0.6852641701698303, 0.6657562255859375], 'accuracy': [0.23034000396728516, 0.38176000118255615, 0.45642000436782837, 0.5057799816131592, 0.5464800000190735, 0.5763599872589111, 0.6087200045585632, 0.6285799741744995, 0.6458399891853333, 0.6650599837303162, 0.6819400191307068, 0.696120023727417, 0.7081000208854675, 0.718779981136322, 0.7298600077629089, 0.739139974117279, 0.7492799758911133, 0.7552599906921387, 0.7604799866676331, 0.7687000036239624], 'val_loss': [1.715823769569397, 1.474590539932251, 1.4462703466415405, 1.3074899911880493, 1.2500218152999878, 1.162068486213684, 1.1334192752838135, 0.9514567255973816, 0.9168998599052429, 0.9777884483337402, 1.0365691184997559, 0.9171357154846191, 0.911767840385437, 0.7961839437484741, 0.8370599746704102, 0.7134803533554077, 0.7585119009017944, 0.7454705238342285, 0.7282828092575073, 0.6905823945999146], 'val_accuracy': [0.36910000443458557, 0.4650000035762787, 0.4837000072002411, 0.5361999869346619, 0.5444999933242798, 0.5939000248908997, 0.6118000149726868, 0.6657999753952026, 0.6818000078201294, 0.659500002861023, 0.6517999768257141, 0.6854000091552734, 0.6886000037193298, 0.7343999743461609, 0.7172999978065491, 0.754800021648407, 0.7346000075340271, 0.75, 0.7560999989509583, 0.7709000110626221]}\n"
          ],
          "name": "stdout"
        }
      ]
    },
    {
      "cell_type": "code",
      "metadata": {
        "id": "GYkclcfJidvT",
        "outputId": "56337fd1-6f22-4499-9a04-96d34f93b07e",
        "trusted": true,
        "colab_type": "code",
        "colab": {
          "base_uri": "https://localhost:8080/",
          "height": 428
        }
      },
      "source": [
        "plt.figure(figsize=[8,6])\n",
        "plt.plot(history.history['loss'],'r',linewidth=3.0)\n",
        "plt.plot(history.history['val_loss'],'b',linewidth=3.0)\n",
        "plt.legend(['Training loss', 'Validation Loss'],fontsize=18)\n",
        "plt.xlabel('Epochs ',fontsize=16)\n",
        "plt.ylabel('Loss',fontsize=16)\n",
        "plt.title('Loss Curves',fontsize=16)"
      ],
      "execution_count": 12,
      "outputs": [
        {
          "output_type": "execute_result",
          "data": {
            "text/plain": [
              "Text(0.5, 1.0, 'Loss Curves')"
            ]
          },
          "metadata": {
            "tags": []
          },
          "execution_count": 12
        },
        {
          "output_type": "display_data",
          "data": {
            "image/png": "[encoded data removed]",
            "text/plain": [
              "<Figure size 576x432 with 1 Axes>"
            ]
          },
          "metadata": {
            "tags": []
          }
        }
      ]
    },
    {
      "cell_type": "code",
      "metadata": {
        "id": "kjMuD6pmidvV",
        "outputId": "c493bcf2-bc58-4c67-b1a7-ecdabcc677a9",
        "trusted": true,
        "colab_type": "code",
        "colab": {
          "base_uri": "https://localhost:8080/",
          "height": 428
        }
      },
      "source": [
        "plt.figure(figsize=[8,6])\n",
        "plt.plot(history.history['accuracy'],'r',linewidth=3.0)\n",
        "plt.plot(history.history['val_accuracy'],'b',linewidth=3.0)\n",
        "plt.legend(['Training Accuracy', 'Validation Accuracy'],fontsize=18)\n",
        "plt.xlabel('Epochs ',fontsize=16)\n",
        "plt.ylabel('Accuracy',fontsize=16)\n",
        "plt.title('Accuracy Curves',fontsize=16)\n"
      ],
      "execution_count": 13,
      "outputs": [
        {
          "output_type": "execute_result",
          "data": {
            "text/plain": [
              "Text(0.5, 1.0, 'Accuracy Curves')"
            ]
          },
          "metadata": {
            "tags": []
          },
          "execution_count": 13
        },
        {
          "output_type": "display_data",
          "data": {
            "image/png": "[encoded data removed]",
            "text/plain": [
              "<Figure size 576x432 with 1 Axes>"
            ]
          },
          "metadata": {
            "tags": []
          }
        }
      ]
    },
    {
      "cell_type": "markdown",
      "metadata": {
        "id": "_YDKgQeHAnCP",
        "colab_type": "text"
      },
      "source": [
        "There is a considerable difference between the training and validation loss. This indicates that the network has tried to memorize the training data and thus, is able to get better accuracy on it. This is a sign of Overfitting. Dropout is already used in the network, but still there is overfitting. We will see if we can further reduce overfitting using something else."
      ]
    },
    {
      "cell_type": "markdown",
      "metadata": {
        "id": "Cz-LvHZkAnCP",
        "colab_type": "text"
      },
      "source": [
        "## <font style=\"color:rgb(50,120,229)\">Inference</font>\n"
      ]
    },
    {
      "cell_type": "code",
      "metadata": {
        "trusted": true,
        "id": "WiZPPPkjAnCQ",
        "colab_type": "code",
        "colab": {
          "base_uri": "https://localhost:8080/",
          "height": 354
        },
        "outputId": "5d0dcf6e-c057-4343-e346-4ec61372cc91"
      },
      "source": [
        "testSample = test_data[9999,:]\n",
        "plt.imshow(testSample.reshape(32,32,3));plt.show()\n",
        "\n",
        "label = model1.predict_classes(testSample.reshape(1,32,32,nDims))[0]\n",
        "print(\"Label = {}, Item = {}\".format(label,labelMap[label]))"
      ],
      "execution_count": 14,
      "outputs": [
        {
          "output_type": "display_data",
          "data": {
            "image/png": "[encoded data removed]",
            "text/plain": [
              "<Figure size 432x288 with 1 Axes>"
            ]
          },
          "metadata": {
            "tags": []
          }
        },
        {
          "output_type": "stream",
          "text": [
            "WARNING:tensorflow:From <ipython-input-14-68c891f0853f>:4: Sequential.predict_classes (from tensorflow.python.keras.engine.sequential) is deprecated and will be removed after 2021-01-01.\n",
            "Instructions for updating:\n",
            "Please use instead:* `np.argmax(model.predict(x), axis=-1)`,   if your model does multi-class classification   (e.g. if it uses a `softmax` last-layer activation).* `(model.predict(x) > 0.5).astype(\"int32\")`,   if your model does binary classification   (e.g. if it uses a `sigmoid` last-layer activation).\n",
            "Label = 7, Item = horse\n"
          ],
          "name": "stdout"
        }
      ]
    },
    {
      "cell_type": "markdown",
      "metadata": {
        "id": "ZQ0HdTwNAnCT",
        "colab_type": "text"
      },
      "source": [
        "> ### <font style=\"color:rgb(8,133,37)\">output of the image that is shifted up</font>"
      ]
    },
    {
      "cell_type": "code",
      "metadata": {
        "trusted": true,
        "id": "SFimDf74AnCT",
        "colab_type": "code",
        "colab": {
          "base_uri": "https://localhost:8080/",
          "height": 283
        },
        "outputId": "c5da4e89-5d15-4546-a9f6-f2a677c345e6"
      },
      "source": [
        "shiftUp = np.zeros(testSample.shape)\n",
        "shiftUp[1:20,:] = testSample[6:25,:]\n",
        "plt.imshow(shiftUp.reshape(32,32,3));plt.show()\n",
        "\n",
        "label = model1.predict_classes(shiftUp.reshape(1,32,32,nDims))[0]\n",
        "print(\"Label = {}, Item = {}\".format(label,labelMap[label]))"
      ],
      "execution_count": 15,
      "outputs": [
        {
          "output_type": "display_data",
          "data": {
            "image/png": "[encoded data removed]",
            "text/plain": [
              "<Figure size 432x288 with 1 Axes>"
            ]
          },
          "metadata": {
            "tags": []
          }
        },
        {
          "output_type": "stream",
          "text": [
            "Label = 7, Item = horse\n"
          ],
          "name": "stdout"
        }
      ]
    },
    {
      "cell_type": "markdown",
      "metadata": {
        "id": "3CvHzVv9AnCX",
        "colab_type": "text"
      },
      "source": [
        "### <font style=\"color:rgb(8,133,37)\">And for the image that is shifted Down?</font>"
      ]
    },
    {
      "cell_type": "code",
      "metadata": {
        "trusted": true,
        "id": "3iyKLxdrAnCY",
        "colab_type": "code",
        "colab": {
          "base_uri": "https://localhost:8080/",
          "height": 283
        },
        "outputId": "bfbbaee4-d27d-4a56-b2ce-fbeaebc9b3e1"
      },
      "source": [
        "shiftDown = np.zeros(testSample.shape)\n",
        "shiftDown[10:27,:] = testSample[6:23,:]\n",
        "plt.imshow(shiftDown.reshape(32,32,3));plt.show()\n",
        "\n",
        "label = model1.predict_classes(shiftDown.reshape(1,32,32,nDims))[0]\n",
        "print(\"Label = {}, Item = {}\".format(label,labelMap[label]))"
      ],
      "execution_count": 16,
      "outputs": [
        {
          "output_type": "display_data",
          "data": {
            "image/png": "[encoded data removed]",
            "text/plain": [
              "<Figure size 432x288 with 1 Axes>"
            ]
          },
          "metadata": {
            "tags": []
          }
        },
        {
          "output_type": "stream",
          "text": [
            "Label = 4, Item = deer\n"
          ],
          "name": "stdout"
        }
      ]
    }
  ]
}